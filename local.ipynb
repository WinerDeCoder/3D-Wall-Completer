{
 "cells": [
  {
   "cell_type": "code",
   "execution_count": 7,
   "metadata": {},
   "outputs": [],
   "source": [
    "import numpy as np\n",
    "import GeometricTools\n",
    "import torch\n",
    "from glob import glob"
   ]
  },
  {
   "cell_type": "code",
   "execution_count": 8,
   "metadata": {},
   "outputs": [],
   "source": [
    "def wall_x(min_x, max_x, min_y, max_y, min_z, max_z, fix_point):\n",
    "    \n",
    "    range_x         = max_x - min_x\n",
    "    range_y         = max_y - min_y\n",
    "    range_z         = max_z - min_z\n",
    "\n",
    "    percent_xz       = range_x / range_z\n",
    "\n",
    "    num_point_y     = 1\n",
    "    num_point_x     = int(np.sqrt( fix_point/ num_point_y * percent_xz ))  + 1\n",
    "    num_point_z     = int(fix_point / num_point_x / num_point_y) \n",
    "\n",
    "    # Đây là code để tạo tường random lộn xộn điểm\n",
    "\n",
    "    # interval_x1 = np.random.uniform(min_x, max_x, size = (num_point_x, num_point_z, num_point_y) ) \n",
    "    # interval_y1 = np.random.uniform(min_y, thick, size = (num_point_x, num_point_z, num_point_y) ) \n",
    "    # interval_z1 = np.random.uniform(min_z, max_z, size = (num_point_x, num_point_z, num_point_y) ) \n",
    "\n",
    "    #wall_x1 = np.stack((interval_x1, interval_z1, interval_y1), axis = 3).reshape(-1,3)[:fix_point]\n",
    "\n",
    "    interval_x1 = np.linspace(min_x, max_x, num_point_x) \n",
    "    interval_y1 = np.linspace((min_y + max_y)/2, max_y, num_point_y) \n",
    "    interval_z1 = np.linspace(min_z, max_z, num_point_z) \n",
    "\n",
    "    \n",
    "\n",
    "    wall = np.array([[a,b,c] for a in interval_x1 for b in interval_y1 for c in interval_z1])[:fix_point]\n",
    "\n",
    "    return wall\n",
    "\n",
    "def wall_y(min_x, max_x, min_y, max_y, min_z, max_z, fix_point):\n",
    "\n",
    "    range_x         = max_x - min_x\n",
    "    range_y         = max_y - min_y\n",
    "    range_z         = max_z - min_z\n",
    "\n",
    "    percent_yz       = range_y / range_z\n",
    "\n",
    "    num_point_x     = 1\n",
    "    num_point_y     = int(np.sqrt( fix_point/ num_point_x * percent_yz )) +1\n",
    "    num_point_z     = int(fix_point / num_point_y / num_point_x) \n",
    "\n",
    "    # interval_x1 = np.random.uniform(min_x, thick, size = (num_point_x, num_point_z, num_point_y) ) \n",
    "    # interval_y1 = np.random.uniform(min_y, max_y, size = (num_point_x, num_point_z, num_point_y) ) \n",
    "    # interval_z1 = np.random.uniform(min_z, max_z, size = (num_point_x, num_point_z, num_point_y) ) \n",
    "    # wall_y1 = np.stack((interval_x1, interval_z1, interval_y1), axis = 3).reshape(-1,3)[:fix_point]\n",
    "\n",
    "    interval_x1 = np.linspace((min_x+max_x)/2, max_x, num_point_x) \n",
    "    interval_y1 = np.linspace(min_y, max_y, num_point_y) \n",
    "    interval_z1 = np.linspace(min_z, max_z, num_point_z) \n",
    "    \n",
    "\n",
    "\n",
    "    wall = np.array([[a,b,c] for a in interval_x1 for b in interval_y1 for c in interval_z1])[:fix_point]\n",
    "\n",
    "    return wall"
   ]
  },
  {
   "cell_type": "code",
   "execution_count": 9,
   "metadata": {},
   "outputs": [],
   "source": [
    "def downsample_array(original_array, desired_shape):\n",
    "    # Get the number of rows in the original array\n",
    "    num_rows_original = original_array.shape[0]\n",
    "    \n",
    "    # Generate random indices to select 'b' rows\n",
    "    random_indices = np.random.choice(num_rows_original, desired_shape[0], replace=False)\n",
    "    \n",
    "    # Select rows based on the random indices\n",
    "    downsampled_array = original_array[random_indices]\n",
    "    \n",
    "    return downsampled_array"
   ]
  },
  {
   "cell_type": "code",
   "execution_count": 10,
   "metadata": {},
   "outputs": [],
   "source": [
    "# from sklearn.metrics.pairwise import euclidean_distances\n",
    "# from sklearn.neighbors import NearestNeighbors\n",
    "\n",
    "# def fps_downsample(original_array, desired_shape):\n",
    "#     # Calculate pairwise Euclidean distances\n",
    "#     dist_matrix = euclidean_distances(original_array, original_array)\n",
    "    \n",
    "#     # Initialize an array to store selected indices\n",
    "#     selected_indices = [0]\n",
    "    \n",
    "#     # Calculate remaining points using FPS\n",
    "#     while len(selected_indices) < desired_shape[0]:\n",
    "#         distances_to_selected = dist_matrix[:, selected_indices]\n",
    "#         min_distances = np.min(distances_to_selected, axis=1)\n",
    "#         max_min_distance_index = np.argmax(min_distances)\n",
    "#         selected_indices.append(max_min_distance_index)\n",
    "    \n",
    "#     # Select points based on the selected indices\n",
    "#     downsampled_array = original_array[selected_indices]\n",
    "    \n",
    "#     return downsampled_array"
   ]
  },
  {
   "cell_type": "code",
   "execution_count": 11,
   "metadata": {},
   "outputs": [
    {
     "ename": "KeyboardInterrupt",
     "evalue": "",
     "output_type": "error",
     "traceback": [
      "\u001b[1;31m---------------------------------------------------------------------------\u001b[0m",
      "\u001b[1;31mKeyboardInterrupt\u001b[0m                         Traceback (most recent call last)",
      "Input \u001b[1;32mIn [11]\u001b[0m, in \u001b[0;36m<cell line: 2>\u001b[1;34m()\u001b[0m\n\u001b[0;32m     12\u001b[0m repeated_z \u001b[38;5;241m=\u001b[39m np\u001b[38;5;241m.\u001b[39mtile(new_z, \u001b[38;5;28mlen\u001b[39m(projection))\n\u001b[0;32m     14\u001b[0m new_array \u001b[38;5;241m=\u001b[39m np\u001b[38;5;241m.\u001b[39mcolumn_stack((repeated_array, repeated_z))\n\u001b[1;32m---> 15\u001b[0m \u001b[43mGeometricTools\u001b[49m\u001b[38;5;241;43m.\u001b[39;49m\u001b[43mdrawPointCloudsColorsClasses\u001b[49m\u001b[43m(\u001b[49m\u001b[43m \u001b[49m\u001b[43mtorch\u001b[49m\u001b[38;5;241;43m.\u001b[39;49m\u001b[43mtensor\u001b[49m\u001b[43m(\u001b[49m\u001b[43mnew_array\u001b[49m\u001b[43m)\u001b[49m\u001b[43m,\u001b[49m\u001b[43m  \u001b[49m\u001b[43morigins\u001b[49m\u001b[38;5;241;43m=\u001b[39;49m\u001b[43m[\u001b[49m\u001b[43m[\u001b[49m\u001b[38;5;241;43m0\u001b[39;49m\u001b[43m,\u001b[49m\u001b[38;5;241;43m0\u001b[39;49m\u001b[43m,\u001b[49m\u001b[38;5;241;43m0\u001b[39;49m\u001b[43m]\u001b[49m\u001b[43m]\u001b[49m\u001b[43m)\u001b[49m\n",
      "\u001b[1;31mKeyboardInterrupt\u001b[0m: "
     ]
    }
   ],
   "source": [
    "paths = glob('np_points/*')\n",
    "for path in paths:\n",
    "    points = np.load(path)\n",
    "    GeometricTools.drawPointCloudsColorsClasses( torch.tensor(points),  origins=[[0,0,0]]) \n",
    "    max_z = np.max(points[:,2])\n",
    "    projection = points[:,:2] # take only x, y ( n, 2)\n",
    "    desired_shape = (8000, 2)\n",
    "    projection = downsample_array(projection, desired_shape)\n",
    "    new_z = np.linspace(0,max_z, 100)\n",
    "    \n",
    "    repeated_array = np.repeat(projection, len(new_z), axis=0)\n",
    "    repeated_z = np.tile(new_z, len(projection))\n",
    "    \n",
    "    new_array = np.column_stack((repeated_array, repeated_z))\n",
    "    GeometricTools.drawPointCloudsColorsClasses( torch.tensor(new_array),  origins=[[0,0,0]]) \n",
    "        "
   ]
  },
  {
   "cell_type": "code",
   "execution_count": null,
   "metadata": {},
   "outputs": [
    {
     "name": "stdout",
     "output_type": "stream",
     "text": [
      "[[1.         1.         0.        ]\n",
      " [1.         1.         0.33333333]\n",
      " [1.         1.         0.66666667]\n",
      " [1.         1.         1.        ]\n",
      " [1.         1.         1.33333333]\n",
      " [1.         1.         1.66666667]\n",
      " [1.         1.         2.        ]\n",
      " [1.         1.         2.33333333]\n",
      " [1.         1.         2.66666667]\n",
      " [1.         1.         3.        ]\n",
      " [2.         2.         0.        ]\n",
      " [2.         2.         0.33333333]\n",
      " [2.         2.         0.66666667]\n",
      " [2.         2.         1.        ]\n",
      " [2.         2.         1.33333333]\n",
      " [2.         2.         1.66666667]\n",
      " [2.         2.         2.        ]\n",
      " [2.         2.         2.33333333]\n",
      " [2.         2.         2.66666667]\n",
      " [2.         2.         3.        ]]\n"
     ]
    }
   ],
   "source": [
    "\n",
    "\n",
    "# Original array of shape (100, 2)\n",
    "original_array = np.array([[1,1], [2,2]])\n",
    "\n",
    "# Array 'z'\n",
    "z = np.linspace(0,3, 10)\n",
    "\n",
    "# Repeat the original array for each value in 'z'\n",
    "repeated_array = np.repeat(original_array, len(z), axis=0)\n",
    "\n",
    "# Repeat each value in 'z' to match the size of the original array\n",
    "repeated_z = np.tile(z, len(original_array))\n",
    "\n",
    "# Combine 'repeated_array' and 'repeated_z' along the second axis\n",
    "new_array = np.column_stack((repeated_array, repeated_z))\n",
    "\n",
    "print(new_array)  # Output: (300, 2)\n"
   ]
  }
 ],
 "metadata": {
  "kernelspec": {
   "display_name": "Python 3",
   "language": "python",
   "name": "python3"
  },
  "language_info": {
   "codemirror_mode": {
    "name": "ipython",
    "version": 3
   },
   "file_extension": ".py",
   "mimetype": "text/x-python",
   "name": "python",
   "nbconvert_exporter": "python",
   "pygments_lexer": "ipython3",
   "version": "3.10.11"
  }
 },
 "nbformat": 4,
 "nbformat_minor": 2
}
